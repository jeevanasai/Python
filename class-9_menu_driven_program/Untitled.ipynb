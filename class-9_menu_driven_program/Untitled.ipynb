{
 "cells": [
  {
   "cell_type": "code",
   "execution_count": 3,
   "metadata": {},
   "outputs": [
    {
     "name": "stdout",
     "output_type": "stream",
     "text": [
      "product menu:\n",
      "\t2.update\n",
      "\t3.delete\n",
      "\t4.browse\n",
      "Enter an option:2\n",
      "Updating the product\n",
      "Enter valid option\n",
      "thank you\n"
     ]
    }
   ],
   "source": [
    "#menu driven program\n",
    "print \"product menu:\\n\\t2.update\\n\\t3.delete\\n\\t4.browse\"\n",
    "opt= raw_input(\"Enter an option:\")\n",
    "if opt=='1':\n",
    "    print \"create  product\"\n",
    "if opt=='2':\n",
    "    print \"Updating the product\"\n",
    "if opt=='3':\n",
    "    print \"Delete a product\"\n",
    "if opt=='4':\n",
    "    print \"Browse a product\"\n",
    "else :\n",
    "    print 'Enter valid option'\n",
    "print \"thank you\"\n",
    "    "
   ]
  },
  {
   "cell_type": "code",
   "execution_count": 1,
   "metadata": {},
   "outputs": [
    {
     "name": "stdout",
     "output_type": "stream",
     "text": [
      "product menu:\n",
      "\t1.create\n",
      "\t2.update\n",
      "\t3.delete\n",
      "\t4.browse\n",
      "Enter an option:1\n",
      "create  product\n",
      "thank you\n"
     ]
    }
   ],
   "source": [
    "# In order to bring up better performance and to avoid the each every statement check we are going to \"elif\"\n",
    "print \"product menu:\\n\\t1.create\\n\\t2.update\\n\\t3.delete\\n\\t4.browse\"\n",
    "opt= raw_input(\"Enter an option:\")\n",
    "if opt=='1':\n",
    "    print \"create  product\"\n",
    "elif opt=='2':\n",
    "    print \"Updating the product\"\n",
    "elif opt=='3':\n",
    "    print \"Delete a product\"\n",
    "elif opt=='4':\n",
    "    print \"Browse a product\"\n",
    "else :\n",
    "    print 'There are only 4 options!! Please enter valid option'\n",
    "print \"thank you\""
   ]
  },
  {
   "cell_type": "code",
   "execution_count": 3,
   "metadata": {},
   "outputs": [
    {
     "name": "stdout",
     "output_type": "stream",
     "text": [
      "product menu:\n",
      "\t1. For Marriage \n",
      "\t2.Voting System\n",
      "\t3.Govt Job Application\n",
      "Enter an option : 3\n",
      "Enter your age: 17\n",
      "you selected Govt job \n",
      "sorry you are not eligible\n",
      "Thank you\n"
     ]
    }
   ],
   "source": [
    "#evaluating system for people in india\n",
    "\"\"\" 1. For Marriage - 21\n",
    "    2. Voting System -18\n",
    "    3. Govt Job Application -(min18, max35)\n",
    "    Enter an option\n",
    "    Enter an age: \n",
    "\"\"\"\n",
    "print \"product menu:\\n\\t1. For Marriage \\n\\t2.Voting System\\n\\t3.Govt Job Application\"\n",
    "opt = raw_input(\"Enter an option : \")\n",
    "age = int(raw_input(\"Enter your age: \"))\n",
    "if opt=='1':\n",
    "    print \"you selected for marriage, Let me check you are eligible or not\"\n",
    "    if (age>=21):\n",
    "            print \"congrats you are eligible !!\"\n",
    "    else:\n",
    "        print \"sorry ,you are not eligible for marriage\"\n",
    "elif opt=='2':\n",
    "    print \"you selected voting system, Let me check you are eligible or not\"\n",
    "    if (age>=18):\n",
    "        print \"You are elible for voting , make use of it properly\"\n",
    "    else:\n",
    "        print \"sorry, you are not eligible\"\n",
    "elif opt=='3':\n",
    "    print \"you selected Govt job \"\n",
    "    if ((age>=18) and (age<=35)):\n",
    "        print \"You are eligible for Govt Job, Go ahead and all the best\"\n",
    "    else:\n",
    "        print \"sorry you are not eligible\"\n",
    "print \"Thank you\""
   ]
  },
  {
   "cell_type": "code",
   "execution_count": 12,
   "metadata": {},
   "outputs": [
    {
     "name": "stdout",
     "output_type": "stream",
     "text": [
      "product menu:\n",
      "\t1.For Marriage \n",
      "\t2.Voting System\n",
      "\t3.Govt Job Application\n",
      "Enter an option : 1\n",
      "Enter your age: 23\n",
      "congrats you are eligible for marriage in india !!\n",
      "Thank you\n"
     ]
    }
   ],
   "source": [
    "#evaluating system for people in india\n",
    "\"\"\" 1. For Marriage - 21\n",
    "    2. Voting System -18\n",
    "    3. Govt Job Application -(min18, max35)\n",
    "    Enter an option\n",
    "    Enter an age: \n",
    "\"\"\"\n",
    "print \"product menu:\\n\\t1.For Marriage \\n\\t\\\n",
    "2.Voting System\\n\\t3.Govt Job Application\"\n",
    "opt = raw_input(\"Enter an option : \")\n",
    "sys=\"user\"\n",
    "if (int(opt))>3:\n",
    "    print\"please enter valid option\"\n",
    "else:\n",
    "    age = int(raw_input(\"Enter your age: \"))\n",
    "    if opt=='1' and age>=21:\n",
    "        print \"congrats you are eligible for marriage in india !!\"   \n",
    "    elif opt=='2' and age>=18:\n",
    "         print \"You are elible for voting , make use of it properly\"\n",
    "    elif opt=='3' and age>=18 and age<=35:\n",
    "        print \"You are eligible for Govt Job, Go ahead and all the best\"\n",
    "    else:\n",
    "        print \"sorry you are not eligible for selected %s option\"%sys\n",
    "print \"Thank you\""
   ]
  },
  {
   "cell_type": "code",
   "execution_count": null,
   "metadata": {},
   "outputs": [],
   "source": [
    "\n"
   ]
  },
  {
   "cell_type": "code",
   "execution_count": null,
   "metadata": {
    "collapsed": true
   },
   "outputs": [],
   "source": []
  }
 ],
 "metadata": {
  "kernelspec": {
   "display_name": "Python 2",
   "language": "python",
   "name": "python2"
  },
  "language_info": {
   "codemirror_mode": {
    "name": "ipython",
    "version": 2
   },
   "file_extension": ".py",
   "mimetype": "text/x-python",
   "name": "python",
   "nbconvert_exporter": "python",
   "pygments_lexer": "ipython2",
   "version": "2.7.14"
  }
 },
 "nbformat": 4,
 "nbformat_minor": 2
}
