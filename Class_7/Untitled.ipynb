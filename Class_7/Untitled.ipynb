{
 "cells": [
  {
   "cell_type": "code",
   "execution_count": null,
   "metadata": {
    "collapsed": true
   },
   "outputs": [],
   "source": [
    "name=raw_input(\"Enter the name\")\n",
    "age = raw-input(\"enter age\")\n",
    "height=raw_input(\"Enter height\")\n",
    "print (\"name age and height of the personi \")"
   ]
  },
  {
   "cell_type": "code",
   "execution_count": 5,
   "metadata": {},
   "outputs": [
    {
     "name": "stdout",
     "output_type": "stream",
     "text": [
      "'hello', i am in \"hyderabad\".\n"
     ]
    }
   ],
   "source": [
    "#'hello', I am in \"hyderabad\"\n",
    "\n",
    "print \"'hello', i am in \\\"hyderabad\\\".\""
   ]
  },
  {
   "cell_type": "code",
   "execution_count": 6,
   "metadata": {},
   "outputs": [
    {
     "name": "stdout",
     "output_type": "stream",
     "text": [
      "'hello', i am in \"hyderabad\".\n"
     ]
    }
   ],
   "source": [
    "print '\\'hello\\', i am in \"hyderabad\".'"
   ]
  },
  {
   "cell_type": "code",
   "execution_count": 7,
   "metadata": {},
   "outputs": [
    {
     "name": "stdout",
     "output_type": "stream",
     "text": [
      "line1\n",
      "line2\n"
     ]
    }
   ],
   "source": [
    "print \"line1\"\n",
    "print \"line2\"\n"
   ]
  },
  {
   "cell_type": "code",
   "execution_count": 8,
   "metadata": {},
   "outputs": [
    {
     "name": "stdout",
     "output_type": "stream",
     "text": [
      "line1\n",
      "line2\n"
     ]
    }
   ],
   "source": [
    "print \"line1\\nline2\""
   ]
  },
  {
   "cell_type": "code",
   "execution_count": 9,
   "metadata": {},
   "outputs": [
    {
     "name": "stdout",
     "output_type": "stream",
     "text": [
      "line1\tline2\n"
     ]
    }
   ],
   "source": [
    "print \"line1\\tline2\""
   ]
  },
  {
   "cell_type": "code",
   "execution_count": 12,
   "metadata": {},
   "outputs": [
    {
     "name": "stdout",
     "output_type": "stream",
     "text": [
      "line1\\tline\\nakfjdakf\\ndjfakjkdj\\nfjkajfk\n",
      "\n"
     ]
    }
   ],
   "source": [
    "print \"line1\\\\tline\\\\nakfjdakf\\\\ndjfakjkdj\\\\nfjkajfk\\n\""
   ]
  },
  {
   "cell_type": "code",
   "execution_count": 15,
   "metadata": {},
   "outputs": [
    {
     "name": "stdout",
     "output_type": "stream",
     "text": [
      "types of strings\n",
      "Normal string : abcde\n",
      "fghijkl\tmnopqrst\n",
      "uvwxyz\n",
      "Raw string :abcde\\nefghij\\nklmnop\\tqrstuvw\\txyz\n"
     ]
    }
   ],
   "source": [
    "print \"types of strings\"\n",
    "print \"Normal string : abcde\\nfghijkl\\tmnopqrst\\nuvwxyz\"\n",
    "print r\"Raw string :abcde\\nefghij\\nklmnop\\tqrstuvw\\txyz\""
   ]
  },
  {
   "cell_type": "code",
   "execution_count": 19,
   "metadata": {},
   "outputs": [
    {
     "name": "stdout",
     "output_type": "stream",
     "text": [
      "cost price of the product: 23.456789\n"
     ]
    }
   ],
   "source": [
    "cost_price=23.456789\n",
    "print \"cost price of the product:\",cost_price"
   ]
  },
  {
   "cell_type": "code",
   "execution_count": 21,
   "metadata": {},
   "outputs": [
    {
     "ename": "TypeError",
     "evalue": "cannot concatenate 'str' and 'float' objects",
     "output_type": "error",
     "traceback": [
      "\u001b[1;31m---------------------------------------------------------------------------\u001b[0m",
      "\u001b[1;31mTypeError\u001b[0m                                 Traceback (most recent call last)",
      "\u001b[1;32m<ipython-input-21-09f023a753a0>\u001b[0m in \u001b[0;36m<module>\u001b[1;34m()\u001b[0m\n\u001b[0;32m      1\u001b[0m \u001b[0mcost_price\u001b[0m\u001b[1;33m=\u001b[0m\u001b[1;36m23.45\u001b[0m\u001b[1;33m\u001b[0m\u001b[0m\n\u001b[1;32m----> 2\u001b[1;33m \u001b[1;32mprint\u001b[0m \u001b[1;34m\"cost price of the product:\"\u001b[0m\u001b[1;33m+\u001b[0m\u001b[0mcost_price\u001b[0m\u001b[1;33m\u001b[0m\u001b[0m\n\u001b[0m",
      "\u001b[1;31mTypeError\u001b[0m: cannot concatenate 'str' and 'float' objects"
     ]
    }
   ],
   "source": [
    "cost_price=23.6789\n",
    "print \"cost price of the product:\"+cost_price"
   ]
  },
  {
   "cell_type": "code",
   "execution_count": 23,
   "metadata": {},
   "outputs": [
    {
     "name": "stdout",
     "output_type": "stream",
     "text": [
      "format specifiers\n",
      "cost price of the product:23.45\n"
     ]
    }
   ],
   "source": [
    "cost_price=23.456789\n",
    "print \"format specifiers\"\n",
    "print \"cost price of the product:\"+str(cost_price)"
   ]
  },
  {
   "cell_type": "code",
   "execution_count": 24,
   "metadata": {},
   "outputs": [
    {
     "name": "stdout",
     "output_type": "stream",
     "text": [
      "format specifiers\n",
      "cost price of the product:23.456789\n"
     ]
    }
   ],
   "source": [
    "cost_price=23.456789\n",
    "print \"format specifiers\"\n",
    "print \"cost price of the product:%f\"%cost_price\n",
    "#it will convert into string internally"
   ]
  },
  {
   "cell_type": "code",
   "execution_count": 25,
   "metadata": {},
   "outputs": [
    {
     "name": "stdout",
     "output_type": "stream",
     "text": [
      "format specifiers\n",
      "cost price of the product:23.46\n"
     ]
    }
   ],
   "source": [
    "cost_price=23.456789\n",
    "print \"format specifiers\"\n",
    "print \"cost price of the product:%.2f\"%cost_price\n",
    "#it will convert into string internally"
   ]
  },
  {
   "cell_type": "code",
   "execution_count": 29,
   "metadata": {},
   "outputs": [
    {
     "name": "stdout",
     "output_type": "stream",
     "text": [
      "format specifiers\n",
      "cost price of the product:23\n",
      "cost pice of the product:23\n"
     ]
    }
   ],
   "source": [
    "cost_price=23.456789\n",
    "print \"format specifiers\"\n",
    "print \"cost price of the product:%d\"%cost_price\n",
    "print \"cost pice of the product:\"+str(int(cost_price))\n",
    "#it will convert and put into string internally"
   ]
  },
  {
   "cell_type": "code",
   "execution_count": 37,
   "metadata": {},
   "outputs": [
    {
     "name": "stdout",
     "output_type": "stream",
     "text": [
      "insert into customer(name, age, height) values ('jeevana',25,5.60)\n"
     ]
    }
   ],
   "source": [
    "name=\"jeevana\"\n",
    "age=25\n",
    "height=5.6\n",
    "#print \"insert into customer(name,age,height) values ('\"+name\"',\"+str(age)+\",\"+str(height)+\")\"\n",
    "print \"insert into customer(name, age, height) values ('%s',%s,%.2f)\"%(name,age,height)"
   ]
  },
  {
   "cell_type": "code",
   "execution_count": 41,
   "metadata": {},
   "outputs": [
    {
     "name": "stdout",
     "output_type": "stream",
     "text": [
      "Person Name: jeevana weight: 75 height: 5.60\n"
     ]
    }
   ],
   "source": [
    "#print name ,weight ,height\n",
    "name = \"jeevana\"\n",
    "weight =75\n",
    "Height =5.6\n",
    "print \"Person Name: %s weight: %d height: %.2f\"%(name,weight,height)"
   ]
  },
  {
   "cell_type": "code",
   "execution_count": 54,
   "metadata": {},
   "outputs": [
    {
     "name": "stdout",
     "output_type": "stream",
     "text": [
      "Enter into single letterm\n",
      "M\n"
     ]
    }
   ],
   "source": [
    "letter=raw_input(\"Enter into single letter\")\n",
    "letter= chr(ord(letter)-32)\n",
    "print letter"
   ]
  },
  {
   "cell_type": "code",
   "execution_count": 52,
   "metadata": {},
   "outputs": [
    {
     "data": {
      "text/plain": [
       "'R'"
      ]
     },
     "execution_count": 52,
     "metadata": {},
     "output_type": "execute_result"
    }
   ],
   "source": [
    "chr(ord('r')-32)"
   ]
  },
  {
   "cell_type": "code",
   "execution_count": 51,
   "metadata": {},
   "outputs": [
    {
     "data": {
      "text/plain": [
       "114"
      ]
     },
     "execution_count": 51,
     "metadata": {},
     "output_type": "execute_result"
    }
   ],
   "source": [
    "ord('r')"
   ]
  },
  {
   "cell_type": "code",
   "execution_count": 57,
   "metadata": {},
   "outputs": [
    {
     "name": "stdout",
     "output_type": "stream",
     "text": [
      "'line1\\nline2'\n",
      "line1\n",
      "line2\n"
     ]
    }
   ],
   "source": [
    "a=\"line1\\nline2\"\n",
    "print \"%r\"%a\n",
    "print \"%s\"%a"
   ]
  },
  {
   "cell_type": "code",
   "execution_count": 59,
   "metadata": {},
   "outputs": [
    {
     "data": {
      "text/plain": [
       "'0b1111011'"
      ]
     },
     "execution_count": 59,
     "metadata": {},
     "output_type": "execute_result"
    }
   ],
   "source": [
    "a=123\n",
    "bin(a)"
   ]
  },
  {
   "cell_type": "code",
   "execution_count": null,
   "metadata": {
    "collapsed": true
   },
   "outputs": [],
   "source": [
    "a="
   ]
  }
 ],
 "metadata": {
  "kernelspec": {
   "display_name": "Python 2",
   "language": "python",
   "name": "python2"
  },
  "language_info": {
   "codemirror_mode": {
    "name": "ipython",
    "version": 2
   },
   "file_extension": ".py",
   "mimetype": "text/x-python",
   "name": "python",
   "nbconvert_exporter": "python",
   "pygments_lexer": "ipython2",
   "version": "2.7.14"
  }
 },
 "nbformat": 4,
 "nbformat_minor": 2
}
